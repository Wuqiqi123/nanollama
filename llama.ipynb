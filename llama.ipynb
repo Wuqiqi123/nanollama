{
 "cells": [
  {
   "cell_type": "markdown",
   "metadata": {},
   "source": [
    "## Absolute Position encoding\n",
    "\n",
    "$$\n",
    "\\begin{align}\n",
    "\\text{PE}(pos, 2i) &= \\sin(pos / 10000^{2i/d}) \\\\\n",
    "\\text{PE}(pos, 2i+1) &= \\cos(pos / 10000^{2i/d})\n",
    "\\end{align}\n",
    "$$\n",
    "\n",
    "\n",
    "\n",
    "\n"
   ]
  },
  {
   "cell_type": "markdown",
   "metadata": {},
   "source": [
    "## ROPE\n",
    "\n",
    "$$\n",
    "\n",
    "$$\n",
    "\n",
    "\n"
   ]
  }
 ],
 "metadata": {
  "language_info": {
   "name": "python"
  }
 },
 "nbformat": 4,
 "nbformat_minor": 2
}
